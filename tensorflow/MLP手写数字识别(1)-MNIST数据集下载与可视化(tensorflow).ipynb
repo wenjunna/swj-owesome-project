{
 "cells": [
  {
   "cell_type": "markdown",
   "id": "416a73ae-1f9f-4e5d-a3e1-d0e0b129fd84",
   "metadata": {},
   "source": [
    "# 1.下载MNIST数据集"
   ]
  },
  {
   "cell_type": "code",
   "execution_count": 4,
   "id": "ca71c6cb-fc9a-4c6d-8ca7-21f7b42c10ae",
   "metadata": {},
   "outputs": [
    {
     "name": "stdout",
     "output_type": "stream",
     "text": [
      "Tensorflow Version:2.16.1\n",
      "[PhysicalDevice(name='/physical_device:CPU:0', device_type='CPU')]\n"
     ]
    }
   ],
   "source": [
    "import tensorflow as tf\n",
    "print('Tensorflow Version:{}'.format(tf.__version__))\n",
    "print(tf.config.list_physical_devices())"
   ]
  },
  {
   "cell_type": "code",
   "execution_count": 2,
   "id": "1cdeac41-8c36-4975-88e3-ab58d8e142b6",
   "metadata": {},
   "outputs": [],
   "source": [
    "from keras.datasets import mnist\n",
    "\n",
    "(x_train_image,y_train_label),(x_test_image,y_test_label) = mnist.load_data()"
   ]
  },
  {
   "cell_type": "code",
   "execution_count": 3,
   "id": "e552d6e8-5fca-438c-b4fb-074a1d95c105",
   "metadata": {},
   "outputs": [],
   "source": [
    "## 代码下载数据集后，会将数据保存在四个集合中，分别为：\n",
    "## train_image:保存训练数字图像，共60000个。\n",
    "## train_label:保存训练数字图像的正确数字，共60000个。\n",
    "## test_image:保存测试数字图像，共10000个。\n",
    "## test_label:保存测试数字图像的正确数字，共10000个。\n",
    "## 数据保存位置'~/.keras/datasets/'+path"
   ]
  },
  {
   "cell_type": "markdown",
   "id": "50283858-71fd-444f-af1a-0f10e312cfce",
   "metadata": {},
   "source": [
    "# 2.查看MNIST数据集"
   ]
  },
  {
   "cell_type": "code",
   "execution_count": 3,
   "id": "eed1abbf-a2d7-4b4e-8494-b48aab2f5858",
   "metadata": {},
   "outputs": [
    {
     "name": "stdout",
     "output_type": "stream",
     "text": [
      "train images: (60000, 28, 28)\n",
      "test images: (10000, 28, 28)\n",
      "train labels: (60000,)\n",
      "test labels: (10000,)\n"
     ]
    }
   ],
   "source": [
    "print(\"train images:\",x_train_image.shape)\n",
    "print(\"test images:\",x_test_image.shape)\n",
    "print(\"train labels:\",y_train_label.shape)\n",
    "print(\"test labels:\",y_test_label.shape)"
   ]
  },
  {
   "cell_type": "markdown",
   "id": "eb87ba74-e7c8-49e2-949a-dfb3696a875c",
   "metadata": {},
   "source": [
    "# 3.导入matplotlib模块进行图像绘制"
   ]
  },
  {
   "cell_type": "code",
   "execution_count": 4,
   "id": "3a1afead-2c88-445a-85f5-741d1976a067",
   "metadata": {},
   "outputs": [],
   "source": [
    "# image是一副28*28的灰度图片，数组中每一个单元的数值在0～255之间。其中0表示白色，255表示黑色。"
   ]
  },
  {
   "cell_type": "code",
   "execution_count": 5,
   "id": "5bf1d70b-c8c0-4ff7-89d6-556c68867453",
   "metadata": {},
   "outputs": [
    {
     "data": {
      "image/png": "[encoded data removed]",
      "text/plain": [
       "<Figure size 200x200 with 1 Axes>"
      ]
     },
     "metadata": {},
     "output_type": "display_data"
    },
    {
     "name": "stdout",
     "output_type": "stream",
     "text": [
      "5\n",
      "[[  0   0   0   0   0   0   0   0   0   0   0   0   0   0   0   0   0   0\n",
      "    0   0   0   0   0   0   0   0   0   0]\n",
      " [  0   0   0   0   0   0   0   0   0   0   0   0   0   0   0   0   0   0\n",
      "    0   0   0   0   0   0   0   0   0   0]\n",
      " [  0   0   0   0   0   0   0   0   0   0   0   0   0   0   0   0   0   0\n",
      "    0   0   0   0   0   0   0   0   0   0]\n",
      " [  0   0   0   0   0   0   0   0   0   0   0   0   0   0   0   0   0   0\n",
      "    0   0   0   0   0   0   0   0   0   0]\n",
      " [  0   0   0   0   0   0   0   0   0   0   0   0   0   0   0   0   0   0\n",
      "    0   0   0   0   0   0   0   0   0   0]\n",
      " [  0   0   0   0   0   0   0   0   0   0   0   0   3  18  18  18 126 136\n",
      "  175  26 166 255 247 127   0   0   0   0]\n",
      " [  0   0   0   0   0   0   0   0  30  36  94 154 170 253 253 253 253 253\n",
      "  225 172 253 242 195  64   0   0   0   0]\n",
      " [  0   0   0   0   0   0   0  49 238 253 253 253 253 253 253 253 253 251\n",
      "   93  82  82  56  39   0   0   0   0   0]\n",
      " [  0   0   0   0   0   0   0  18 219 253 253 253 253 253 198 182 247 241\n",
      "    0   0   0   0   0   0   0   0   0   0]\n",
      " [  0   0   0   0   0   0   0   0  80 156 107 253 253 205  11   0  43 154\n",
      "    0   0   0   0   0   0   0   0   0   0]\n",
      " [  0   0   0   0   0   0   0   0   0  14   1 154 253  90   0   0   0   0\n",
      "    0   0   0   0   0   0   0   0   0   0]\n",
      " [  0   0   0   0   0   0   0   0   0   0   0 139 253 190   2   0   0   0\n",
      "    0   0   0   0   0   0   0   0   0   0]\n",
      " [  0   0   0   0   0   0   0   0   0   0   0  11 190 253  70   0   0   0\n",
      "    0   0   0   0   0   0   0   0   0   0]\n",
      " [  0   0   0   0   0   0   0   0   0   0   0   0  35 241 225 160 108   1\n",
      "    0   0   0   0   0   0   0   0   0   0]\n",
      " [  0   0   0   0   0   0   0   0   0   0   0   0   0  81 240 253 253 119\n",
      "   25   0   0   0   0   0   0   0   0   0]\n",
      " [  0   0   0   0   0   0   0   0   0   0   0   0   0   0  45 186 253 253\n",
      "  150  27   0   0   0   0   0   0   0   0]\n",
      " [  0   0   0   0   0   0   0   0   0   0   0   0   0   0   0  16  93 252\n",
      "  253 187   0   0   0   0   0   0   0   0]\n",
      " [  0   0   0   0   0   0   0   0   0   0   0   0   0   0   0   0   0 249\n",
      "  253 249  64   0   0   0   0   0   0   0]\n",
      " [  0   0   0   0   0   0   0   0   0   0   0   0   0   0  46 130 183 253\n",
      "  253 207   2   0   0   0   0   0   0   0]\n",
      " [  0   0   0   0   0   0   0   0   0   0   0   0  39 148 229 253 253 253\n",
      "  250 182   0   0   0   0   0   0   0   0]\n",
      " [  0   0   0   0   0   0   0   0   0   0  24 114 221 253 253 253 253 201\n",
      "   78   0   0   0   0   0   0   0   0   0]\n",
      " [  0   0   0   0   0   0   0   0  23  66 213 253 253 253 253 198  81   2\n",
      "    0   0   0   0   0   0   0   0   0   0]\n",
      " [  0   0   0   0   0   0  18 171 219 253 253 253 253 195  80   9   0   0\n",
      "    0   0   0   0   0   0   0   0   0   0]\n",
      " [  0   0   0   0  55 172 226 253 253 253 253 244 133  11   0   0   0   0\n",
      "    0   0   0   0   0   0   0   0   0   0]\n",
      " [  0   0   0   0 136 253 253 253 212 135 132  16   0   0   0   0   0   0\n",
      "    0   0   0   0   0   0   0   0   0   0]\n",
      " [  0   0   0   0   0   0   0   0   0   0   0   0   0   0   0   0   0   0\n",
      "    0   0   0   0   0   0   0   0   0   0]\n",
      " [  0   0   0   0   0   0   0   0   0   0   0   0   0   0   0   0   0   0\n",
      "    0   0   0   0   0   0   0   0   0   0]\n",
      " [  0   0   0   0   0   0   0   0   0   0   0   0   0   0   0   0   0   0\n",
      "    0   0   0   0   0   0   0   0   0   0]]\n"
     ]
    }
   ],
   "source": [
    "import matplotlib.pyplot as plt\n",
    "def plot_image(image):\n",
    "    fig = plt.gcf()\n",
    "    fig.set_size_inches(2,2)\n",
    "    plt.imshow(image,cmap='binary')\n",
    "    plt.show()\n",
    "plot_image(x_train_image[0])\n",
    "print(y_train_label[0])\n",
    "print(x_train_image[0])"
   ]
  },
  {
   "cell_type": "markdown",
   "id": "3631afb6-27c0-4cda-926a-f6c7e037a91d",
   "metadata": {},
   "source": [
    "# 4.绘制多张图像"
   ]
  },
  {
   "cell_type": "code",
   "execution_count": 6,
   "id": "54dfaeef-90dc-4ed5-beff-dfdfb55cbd1b",
   "metadata": {},
   "outputs": [
    {
     "data": {
      "image/png": "[encoded data removed]",
      "text/plain": [
       "<Figure size 1200x1400 with 5 Axes>"
      ]
     },
     "metadata": {},
     "output_type": "display_data"
    },
    {
     "data": {
      "image/png": "[encoded data removed]",
      "text/plain": [
       "<Figure size 1200x1400 with 5 Axes>"
      ]
     },
     "metadata": {},
     "output_type": "display_data"
    }
   ],
   "source": [
    "def plot_images_lables(images,labels,start_idx,num=5):\n",
    "    fig = plt.gcf()\n",
    "    fig.set_size_inches(12,14)\n",
    "    for i in range(num):\n",
    "        ax = plt.subplot(1,num,1+i)\n",
    "        ax.imshow(images[start_idx+i],cmap='binary')\n",
    "        title = 'label=' + str(labels[start_idx+i])\n",
    "        ax.set_title(title,fontsize=10)\n",
    "        ax.set_xticks([])\n",
    "        ax.set_yticks([])\n",
    "    plt.show()\n",
    "plot_images_lables(x_train_image,y_train_label,0,5)\n",
    "plot_images_lables(x_test_image,y_test_label,0,5)"
   ]
  },
  {
   "cell_type": "code",
   "execution_count": null,
   "id": "45a9929f-652e-449f-a055-baa7237d0b4a",
   "metadata": {},
   "outputs": [],
   "source": []
  }
 ],
 "metadata": {
  "kernelspec": {
   "display_name": "Python 3 (ipykernel)",
   "language": "python",
   "name": "python3"
  },
  "language_info": {
   "codemirror_mode": {
    "name": "ipython",
    "version": 3
   },
   "file_extension": ".py",
   "mimetype": "text/x-python",
   "name": "python",
   "nbconvert_exporter": "python",
   "pygments_lexer": "ipython3",
   "version": "3.10.6"
  }
 },
 "nbformat": 4,
 "nbformat_minor": 5
}
