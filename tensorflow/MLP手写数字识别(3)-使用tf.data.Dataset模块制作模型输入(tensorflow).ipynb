{
 "cells": [
  {
   "cell_type": "markdown",
   "id": "469d7694-4991-46ba-bcfa-781a369b88a4",
   "metadata": {},
   "source": [
    "## 1、tensorflow版本查看"
   ]
  },
  {
   "cell_type": "code",
   "execution_count": 1,
   "id": "a9742673-a5ff-4fcd-87f7-5b590f5dcbdd",
   "metadata": {},
   "outputs": [
    {
     "name": "stderr",
     "output_type": "stream",
     "text": [
      "2024-05-04 21:29:05.936344: I tensorflow/core/platform/cpu_feature_guard.cc:210] This TensorFlow binary is optimized to use available CPU instructions in performance-critical operations.\n",
      "To enable the following instructions: AVX2 AVX512F AVX512_VNNI FMA, in other operations, rebuild TensorFlow with the appropriate compiler flags.\n"
     ]
    },
    {
     "name": "stdout",
     "output_type": "stream",
     "text": [
      "Tensorflow Version:2.16.1\n",
      "[PhysicalDevice(name='/physical_device:CPU:0', device_type='CPU')]\n"
     ]
    }
   ],
   "source": [
    "import tensorflow as tf\n",
    "\n",
    "print('Tensorflow Version:{}'.format(tf.__version__))\n",
    "print(tf.config.list_physical_devices())"
   ]
  },
  {
   "cell_type": "markdown",
   "id": "eb3cbe60-c4c1-465e-842b-d8222c08837f",
   "metadata": {},
   "source": [
    "## 2、MNIST数据集下载与预处理"
   ]
  },
  {
   "cell_type": "code",
   "execution_count": 2,
   "id": "13a0e05c-37c5-422a-b322-30d9b9eb2dcf",
   "metadata": {},
   "outputs": [],
   "source": [
    "(train_images,train_labels),(test_images,test_labels) = tf.keras.datasets.mnist.load_data()\n",
    "train_images,test_images = tf.cast(train_images/255.0,tf.float32),tf.cast(test_images/255.0,tf.float32) # 归一化"
   ]
  },
  {
   "cell_type": "markdown",
   "id": "a3944b3a-e0e7-484d-85d5-8a2cb9488e95",
   "metadata": {},
   "source": [
    "### tf.data.Dataset制作训练数据集"
   ]
  },
  {
   "cell_type": "code",
   "execution_count": 3,
   "id": "3a1491eb-457d-4e16-a7b2-62d29f55206d",
   "metadata": {},
   "outputs": [
    {
     "name": "stdout",
     "output_type": "stream",
     "text": [
      "<_TensorSliceDataset element_spec=TensorSpec(shape=(28, 28), dtype=tf.float32, name=None)>\n",
      "<_TensorSliceDataset element_spec=TensorSpec(shape=(), dtype=tf.uint8, name=None)>\n",
      "<_BatchDataset element_spec=(TensorSpec(shape=(None, 28, 28), dtype=tf.float32, name=None), TensorSpec(shape=(None,), dtype=tf.uint8, name=None))>\n"
     ]
    }
   ],
   "source": [
    "ds_train_image = tf.data.Dataset.from_tensor_slices(train_images)\n",
    "ds_train_label = tf.data.Dataset.from_tensor_slices(train_labels)\n",
    "ds_train = tf.data.Dataset.zip((ds_train_image,ds_train_label))\n",
    "ds_train = ds_train.shuffle(10000).repeat().batch(64) # 乱序，无限次重复，每次取64张图片\n",
    "\n",
    "print(ds_train_image)\n",
    "print(ds_train_label)\n",
    "print(ds_train)"
   ]
  },
  {
   "cell_type": "markdown",
   "id": "3847c444-59ad-40d9-91cc-57bcb83c7752",
   "metadata": {},
   "source": [
    "### tf.data.Dataset制作测试数据集"
   ]
  },
  {
   "cell_type": "code",
   "execution_count": 4,
   "id": "c42a1535-77d2-4a89-add6-b4e66743ace5",
   "metadata": {},
   "outputs": [
    {
     "name": "stdout",
     "output_type": "stream",
     "text": [
      "<_BatchDataset element_spec=(TensorSpec(shape=(None, 28, 28), dtype=tf.float32, name=None), TensorSpec(shape=(None,), dtype=tf.uint8, name=None))>\n"
     ]
    }
   ],
   "source": [
    "ds_test = tf.data.Dataset.from_tensor_slices((test_images,test_labels))\n",
    "ds_test = ds_test.repeat().batch(64)\n",
    "\n",
    "print(ds_test)"
   ]
  },
  {
   "cell_type": "markdown",
   "id": "4bcdee6e-1013-4640-9a25-eeecce0104ad",
   "metadata": {},
   "source": [
    "## 3、搭建MLP模型"
   ]
  },
  {
   "cell_type": "code",
   "execution_count": 5,
   "id": "fdd19dc6-831b-4868-a0e1-d1ec3b4e1207",
   "metadata": {},
   "outputs": [],
   "source": [
    "from keras import Sequential\n",
    "from keras.layers import Flatten,Dense\n",
    "from keras import Input\n",
    "\n",
    "model = Sequential()\n",
    "model.add(Input(shape=(28,28)))\n",
    "model.add(Flatten())\n",
    "model.add(Dense(units=256,kernel_initializer='normal',activation='relu'))\n",
    "model.add(Dense(units=10,kernel_initializer='normal',activation='softmax'))\n",
    "# model.summary()"
   ]
  },
  {
   "cell_type": "markdown",
   "id": "ba00ab96-2b13-47ab-9848-774ca2f6791c",
   "metadata": {},
   "source": [
    "## 4、模型训练"
   ]
  },
  {
   "cell_type": "markdown",
   "id": "7ffeeb0b-9f15-42ff-87ef-b2e1ee6ded5e",
   "metadata": {},
   "source": [
    "### 调用model.compile()函数对训练模型进行设置"
   ]
  },
  {
   "cell_type": "code",
   "execution_count": 6,
   "id": "142c32ef-b8ef-4b0a-970f-ee3b0e545320",
   "metadata": {},
   "outputs": [],
   "source": [
    "model.compile(optimizer='adam',\n",
    "              loss='sparse_categorical_crossentropy',\n",
    "              metrics=['accuracy'])"
   ]
  },
  {
   "cell_type": "markdown",
   "id": "a62a1895-85b2-4296-bbbf-363ddb1b3ea1",
   "metadata": {},
   "source": [
    "### 调用model.fit()配置训练参数，开始训练，并保存训练结果。"
   ]
  },
  {
   "cell_type": "code",
   "execution_count": 7,
   "id": "cdfa54db-b72d-49d9-b327-116cd0b1e5a5",
   "metadata": {},
   "outputs": [
    {
     "name": "stdout",
     "output_type": "stream",
     "text": [
      "Epoch 1/10\n",
      "\u001b[1m937/937\u001b[0m \u001b[32m━━━━━━━━━━━━━━━━━━━━\u001b[0m\u001b[37m\u001b[0m \u001b[1m3s\u001b[0m 3ms/step - accuracy: 0.8639 - loss: 0.4951 - val_accuracy: 0.9561 - val_loss: 0.1449\n",
      "Epoch 2/10\n",
      "\u001b[1m937/937\u001b[0m \u001b[32m━━━━━━━━━━━━━━━━━━━━\u001b[0m\u001b[37m\u001b[0m \u001b[1m3s\u001b[0m 3ms/step - accuracy: 0.9619 - loss: 0.1308 - val_accuracy: 0.9692 - val_loss: 0.1016\n",
      "Epoch 3/10\n",
      "\u001b[1m937/937\u001b[0m \u001b[32m━━━━━━━━━━━━━━━━━━━━\u001b[0m\u001b[37m\u001b[0m \u001b[1m3s\u001b[0m 3ms/step - accuracy: 0.9751 - loss: 0.0824 - val_accuracy: 0.9738 - val_loss: 0.0850\n",
      "Epoch 4/10\n",
      "\u001b[1m937/937\u001b[0m \u001b[32m━━━━━━━━━━━━━━━━━━━━\u001b[0m\u001b[37m\u001b[0m \u001b[1m3s\u001b[0m 3ms/step - accuracy: 0.9831 - loss: 0.0568 - val_accuracy: 0.9762 - val_loss: 0.0774\n",
      "Epoch 5/10\n",
      "\u001b[1m937/937\u001b[0m \u001b[32m━━━━━━━━━━━━━━━━━━━━\u001b[0m\u001b[37m\u001b[0m \u001b[1m3s\u001b[0m 3ms/step - accuracy: 0.9866 - loss: 0.0450 - val_accuracy: 0.9769 - val_loss: 0.0703\n",
      "Epoch 6/10\n",
      "\u001b[1m937/937\u001b[0m \u001b[32m━━━━━━━━━━━━━━━━━━━━\u001b[0m\u001b[37m\u001b[0m \u001b[1m3s\u001b[0m 3ms/step - accuracy: 0.9903 - loss: 0.0335 - val_accuracy: 0.9778 - val_loss: 0.0709\n",
      "Epoch 7/10\n",
      "\u001b[1m937/937\u001b[0m \u001b[32m━━━━━━━━━━━━━━━━━━━━\u001b[0m\u001b[37m\u001b[0m \u001b[1m3s\u001b[0m 3ms/step - accuracy: 0.9926 - loss: 0.0257 - val_accuracy: 0.9798 - val_loss: 0.0716\n",
      "Epoch 8/10\n",
      "\u001b[1m937/937\u001b[0m \u001b[32m━━━━━━━━━━━━━━━━━━━━\u001b[0m\u001b[37m\u001b[0m \u001b[1m3s\u001b[0m 3ms/step - accuracy: 0.9945 - loss: 0.0202 - val_accuracy: 0.9769 - val_loss: 0.0763\n",
      "Epoch 9/10\n",
      "\u001b[1m937/937\u001b[0m \u001b[32m━━━━━━━━━━━━━━━━━━━━\u001b[0m\u001b[37m\u001b[0m \u001b[1m2s\u001b[0m 3ms/step - accuracy: 0.9952 - loss: 0.0159 - val_accuracy: 0.9791 - val_loss: 0.0706\n",
      "Epoch 10/10\n",
      "\u001b[1m937/937\u001b[0m \u001b[32m━━━━━━━━━━━━━━━━━━━━\u001b[0m\u001b[37m\u001b[0m \u001b[1m2s\u001b[0m 3ms/step - accuracy: 0.9957 - loss: 0.0140 - val_accuracy: 0.9798 - val_loss: 0.0745\n"
     ]
    }
   ],
   "source": [
    "steps_per_epochs = train_images.shape[0]//64  # 937\n",
    "\n",
    "H = model.fit(ds_train,  # 训练数据集\n",
    "              steps_per_epoch=steps_per_epochs,  # 每个epoch训练步数\n",
    "              validation_data=ds_test,  #验证数据集\n",
    "              validation_steps=10000//64,\n",
    "              epochs=10,\n",
    "              verbose=1)"
   ]
  },
  {
   "cell_type": "code",
   "execution_count": null,
   "id": "2cd69e0d-7cec-4e7b-8071-88631df9053c",
   "metadata": {},
   "outputs": [],
   "source": []
  }
 ],
 "metadata": {
  "kernelspec": {
   "display_name": "Python 3 (ipykernel)",
   "language": "python",
   "name": "python3"
  },
  "language_info": {
   "codemirror_mode": {
    "name": "ipython",
    "version": 3
   },
   "file_extension": ".py",
   "mimetype": "text/x-python",
   "name": "python",
   "nbconvert_exporter": "python",
   "pygments_lexer": "ipython3",
   "version": "3.10.6"
  }
 },
 "nbformat": 4,
 "nbformat_minor": 5
}
