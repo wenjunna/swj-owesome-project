{
 "cells": [
  {
   "cell_type": "markdown",
   "id": "de17590b-1844-430c-af3a-8043c1474318",
   "metadata": {},
   "source": [
    "# 使用tensorflow搭建简易版fasttext模型"
   ]
  },
  {
   "cell_type": "code",
   "execution_count": null,
   "id": "c4d45d32-4d05-4974-97aa-a80e2b6530b0",
   "metadata": {},
   "outputs": [
    {
     "name": "stderr",
     "output_type": "stream",
     "text": [
      "2024-04-08 11:33:28.308464: I tensorflow/core/platform/cpu_feature_guard.cc:210] This TensorFlow binary is optimized to use available CPU instructions in performance-critical operations.\n",
      "To enable the following instructions: AVX2 AVX512F AVX512_VNNI FMA, in other operations, rebuild TensorFlow with the appropriate compiler flags.\n"
     ]
    }
   ],
   "source": [
    "from keras.models import Sequential\n",
    "from keras.layers import Embedding\n",
    "from keras.layers import GlobalAveragePooling1D\n",
    "from keras.layers import Dense,Input"
   ]
  },
  {
   "cell_type": "markdown",
   "id": "5505d6eb-c23f-48c9-b95e-e4714e2c4e04",
   "metadata": {},
   "source": [
    "## 模型构建"
   ]
  },
  {
   "cell_type": "code",
   "execution_count": null,
   "id": "52e66c00-00f4-49fd-9217-5a9f9ba79ef6",
   "metadata": {},
   "outputs": [],
   "source": [
    "VOCAB_SIZE = 2000\n",
    "EMBEDDING_DIM = 100\n",
    "MAX_WORKS = 500\n",
    "CLASS_NUM = 5"
   ]
  },
  {
   "cell_type": "code",
   "execution_count": null,
   "id": "b0aed0d7-b32b-4fa7-a0d0-4abc8279ff28",
   "metadata": {},
   "outputs": [],
   "source": [
    "model = Sequential()\n",
    "model.add(Input(shape=(32,)))\n",
    "model.add(Embedding(VOCAB_SIZE,EMBEDDING_DIM)) # 输入词的embedding\n",
    "model.add(GlobalAveragePooling1D())  # 求词向量平均值\n",
    "model.add(Dense(CLASS_NUM,activation='softmax')) # 此处应该是层次化softmax\n",
    "# model.compile(loss='categorical_crossentropy',optimizer='SGD',metrics=['accuracy'])\n",
    "model.compile(optimizer='adam', loss='sparse_categorical_crossentropy', metrics=['sparse_categorical_accuracy'])  # 稀疏交叉熵损失函数\n",
    "model.build()\n",
    "model.summary()"
   ]
  },
  {
   "cell_type": "markdown",
   "id": "50a0d1c3-11e0-4c4a-80ba-ddccaeeca0d8",
   "metadata": {},
   "source": [
    "## 构建训练数据"
   ]
  },
  {
   "cell_type": "code",
   "execution_count": null,
   "id": "a41498d4-b271-4b94-8a97-18e2a1a39209",
   "metadata": {},
   "outputs": [],
   "source": [
    "import numpy as np\n",
    "x = np.random.randint(VOCAB_SIZE, size=(10000, 32))\n",
    "y = np.random.randint(5, size=(10000,1))\n",
    "print(x)\n",
    "print(y)"
   ]
  },
  {
   "cell_type": "markdown",
   "id": "4875d4d9-f901-4abf-b6cd-ee24c2104c0d",
   "metadata": {},
   "source": [
    "## 训练模型"
   ]
  },
  {
   "cell_type": "code",
   "execution_count": null,
   "id": "82d36325-11dd-4781-a7af-80ee84058fc4",
   "metadata": {},
   "outputs": [],
   "source": [
    "history = model.fit(x,y,batch_size=32,epochs=5)"
   ]
  },
  {
   "cell_type": "code",
   "execution_count": null,
   "id": "5793bd1a-8222-4955-8cf0-2ef6b5207185",
   "metadata": {},
   "outputs": [],
   "source": [
    "history.history"
   ]
  },
  {
   "cell_type": "code",
   "execution_count": null,
   "id": "6034ec66-1a6f-418c-b7b9-d8c36eaba985",
   "metadata": {},
   "outputs": [],
   "source": []
  }
 ],
 "metadata": {
  "kernelspec": {
   "display_name": "Python 3 (ipykernel)",
   "language": "python",
   "name": "python3"
  },
  "language_info": {
   "codemirror_mode": {
    "name": "ipython",
    "version": 3
   },
   "file_extension": ".py",
   "mimetype": "text/x-python",
   "name": "python",
   "nbconvert_exporter": "python",
   "pygments_lexer": "ipython3",
   "version": "3.10.6"
  }
 },
 "nbformat": 4,
 "nbformat_minor": 5
}
