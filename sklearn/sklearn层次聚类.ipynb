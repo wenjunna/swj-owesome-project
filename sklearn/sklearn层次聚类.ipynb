{
 "cells": [
  {
   "cell_type": "markdown",
   "id": "0748ba56-9e20-4bd3-aa49-72bf1b934353",
   "metadata": {},
   "source": [
    "# sklearn层次聚类"
   ]
  },
  {
   "cell_type": "code",
   "execution_count": 1,
   "id": "3f439a61-2598-4928-a20a-dd38a11dcf29",
   "metadata": {},
   "outputs": [],
   "source": [
    "from sklearn.cluster import AgglomerativeClustering\n",
    "from sklearn.datasets import make_blobs"
   ]
  },
  {
   "cell_type": "markdown",
   "id": "08812b14-6a72-448f-a849-1a9245e87f68",
   "metadata": {},
   "source": [
    "## 生成示例数据"
   ]
  },
  {
   "cell_type": "code",
   "execution_count": 2,
   "id": "546e595c-5fb7-4b49-9b5d-9f68327e6eb6",
   "metadata": {},
   "outputs": [
    {
     "name": "stdout",
     "output_type": "stream",
     "text": [
      "[-7.72642091 -8.39495682]\n",
      "2\n"
     ]
    }
   ],
   "source": [
    "X, y = make_blobs(n_samples=100, centers=3, random_state=42)\n",
    "print(X[0])\n",
    "print(y[0])"
   ]
  },
  {
   "cell_type": "markdown",
   "id": "449f6ea5-26be-49c3-aab5-6fcd70a9d14b",
   "metadata": {},
   "source": [
    "## 创建AgglomerativeClustering对象"
   ]
  },
  {
   "cell_type": "code",
   "execution_count": 3,
   "id": "73877990-671f-4553-bf61-2bccf264a68b",
   "metadata": {},
   "outputs": [],
   "source": [
    "clustering = AgglomerativeClustering(n_clusters=3, metric='euclidean', linkage='ward')"
   ]
  },
  {
   "cell_type": "markdown",
   "id": "f6ecaa8b-6ee3-4856-81f7-beb866a95a13",
   "metadata": {},
   "source": [
    "## 进行聚类"
   ]
  },
  {
   "cell_type": "code",
   "execution_count": 4,
   "id": "ea519ac6-c90f-4597-99d3-c01c6bd6961f",
   "metadata": {},
   "outputs": [],
   "source": [
    "labels = clustering.fit_predict(X)"
   ]
  },
  {
   "cell_type": "code",
   "execution_count": 5,
   "id": "853bd8a5-f352-42c3-99ea-694476acbbaf",
   "metadata": {},
   "outputs": [],
   "source": [
    "from sklearn.metrics import silhouette_score, calinski_harabasz_score,jaccard_score"
   ]
  },
  {
   "cell_type": "markdown",
   "id": "e1feea8b-8c13-4c8c-a900-6542b0f3892a",
   "metadata": {},
   "source": [
    "## 计算轮廓系数\n",
    "衡量一个样本聚类的紧密程度和与其他聚类的分离程度。轮廓系数的取值范围在-1到1之间，越接近1表示聚类效果越好。"
   ]
  },
  {
   "cell_type": "code",
   "execution_count": 6,
   "id": "2b6d98f5-6fa1-4da3-a2d7-a1d0cc0c5b4b",
   "metadata": {},
   "outputs": [
    {
     "name": "stdout",
     "output_type": "stream",
     "text": [
      "轮廓系数: 0.8469881221532085\n"
     ]
    }
   ],
   "source": [
    "silhouette_avg = silhouette_score(X, labels)\n",
    "print(\"轮廓系数:\", silhouette_avg)"
   ]
  },
  {
   "cell_type": "markdown",
   "id": "d28132e9-1d90-4fe3-b15b-430286a717ac",
   "metadata": {},
   "source": [
    "## 计算Calinski-Harabasz指数\n",
    "衡量聚类结果的凝聚程度和分离程度，值越大表示聚类效果越好。"
   ]
  },
  {
   "cell_type": "code",
   "execution_count": 7,
   "id": "4fcd2b49-0f73-4445-8604-68a51b5f3cfd",
   "metadata": {},
   "outputs": [
    {
     "name": "stdout",
     "output_type": "stream",
     "text": [
      "Calinski-Harabasz指数: 1778.0880985088447\n"
     ]
    }
   ],
   "source": [
    "ch_score = calinski_harabasz_score(X, labels)\n",
    "print(\"Calinski-Harabasz指数:\", ch_score)"
   ]
  },
  {
   "cell_type": "code",
   "execution_count": null,
   "id": "387dd540-d16a-4e1b-8d48-557d22e990a0",
   "metadata": {},
   "outputs": [],
   "source": []
  }
 ],
 "metadata": {
  "kernelspec": {
   "display_name": "Python 3 (ipykernel)",
   "language": "python",
   "name": "python3"
  },
  "language_info": {
   "codemirror_mode": {
    "name": "ipython",
    "version": 3
   },
   "file_extension": ".py",
   "mimetype": "text/x-python",
   "name": "python",
   "nbconvert_exporter": "python",
   "pygments_lexer": "ipython3",
   "version": "3.10.6"
  }
 },
 "nbformat": 4,
 "nbformat_minor": 5
}
