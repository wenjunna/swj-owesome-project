{
 "cells": [
  {
   "cell_type": "markdown",
   "id": "0d180bac-9780-4fe2-a369-70065913d98a",
   "metadata": {},
   "source": [
    "# ac 自动自动机用于文本匹配"
   ]
  },
  {
   "cell_type": "markdown",
   "id": "cd0db043-4a9d-4667-b3d4-ae8d5450cccf",
   "metadata": {},
   "source": [
    "## pyahocorasick 安装\n",
    "pip install pyahocorasick"
   ]
  },
  {
   "cell_type": "code",
   "execution_count": null,
   "id": "0fc280a3-a331-406f-aae5-a867d6af92cf",
   "metadata": {},
   "outputs": [],
   "source": []
  },
  {
   "cell_type": "code",
   "execution_count": 1,
   "id": "5f11461b-af18-448c-9723-12ae63f8629a",
   "metadata": {},
   "outputs": [],
   "source": [
    "import ahocorasick"
   ]
  },
  {
   "cell_type": "code",
   "execution_count": 3,
   "id": "db5c1a9f-0f24-4071-9f8d-50bec854a5c7",
   "metadata": {},
   "outputs": [],
   "source": [
    "A = ahocorasick.Automaton()"
   ]
  },
  {
   "cell_type": "code",
   "execution_count": 4,
   "id": "2fe0f7da-5af2-4ae9-b16a-f023b226df14",
   "metadata": {},
   "outputs": [],
   "source": [
    "## 添加单词\n",
    "strs = \"cat##2666 xxcat##20 catastropha rat rate bat cut\"\n",
    "for index,word in enumerate(strs.split()):\n",
    "    A.add_word(word, len(word))"
   ]
  },
  {
   "cell_type": "code",
   "execution_count": 6,
   "id": "8d53c63d-330d-441d-a3f2-5c808aa0f3cb",
   "metadata": {},
   "outputs": [
    {
     "data": {
      "text/plain": [
       "['catastropha', 'cat##2666']"
      ]
     },
     "execution_count": 6,
     "metadata": {},
     "output_type": "execute_result"
    }
   ],
   "source": [
    "## prefix\n",
    "list(A.keys(\"cat\"))"
   ]
  },
  {
   "cell_type": "code",
   "execution_count": 9,
   "id": "b3a7bce2-8fa9-4698-b7a4-60d48b357aed",
   "metadata": {},
   "outputs": [
    {
     "data": {
      "text/plain": [
       "['cat##2666']"
      ]
     },
     "execution_count": 9,
     "metadata": {},
     "output_type": "execute_result"
    }
   ],
   "source": [
    "list(A.keys(\"cat##?\",\"?\",ahocorasick.MATCH_AT_LEAST_PREFIX))"
   ]
  },
  {
   "cell_type": "code",
   "execution_count": 10,
   "id": "9ccd242e-6b2d-4620-b17c-e57d97646e1b",
   "metadata": {},
   "outputs": [
    {
     "data": {
      "text/plain": [
       "['bat', 'rat', 'rate']"
      ]
     },
     "execution_count": 10,
     "metadata": {},
     "output_type": "execute_result"
    }
   ],
   "source": [
    "list(A.keys(\"?at?\",\"?\",ahocorasick.MATCH_AT_MOST_PREFIX))"
   ]
  },
  {
   "cell_type": "code",
   "execution_count": 11,
   "id": "fff1216f-68b4-4ee0-b2ed-7010e9c8c8aa",
   "metadata": {},
   "outputs": [
    {
     "data": {
      "text/plain": [
       "['rate', 'catastropha', 'cat##2666']"
      ]
     },
     "execution_count": 11,
     "metadata": {},
     "output_type": "execute_result"
    }
   ],
   "source": [
    "list(A.keys(\"?at?\",\"?\",ahocorasick.MATCH_AT_LEAST_PREFIX))"
   ]
  },
  {
   "cell_type": "code",
   "execution_count": null,
   "id": "cc0d2fbf-615a-4b06-a976-1463ad1a13d8",
   "metadata": {},
   "outputs": [],
   "source": []
  }
 ],
 "metadata": {
  "kernelspec": {
   "display_name": "Python 3 (ipykernel)",
   "language": "python",
   "name": "python3"
  },
  "language_info": {
   "codemirror_mode": {
    "name": "ipython",
    "version": 3
   },
   "file_extension": ".py",
   "mimetype": "text/x-python",
   "name": "python",
   "nbconvert_exporter": "python",
   "pygments_lexer": "ipython3",
   "version": "3.10.6"
  }
 },
 "nbformat": 4,
 "nbformat_minor": 5
}
